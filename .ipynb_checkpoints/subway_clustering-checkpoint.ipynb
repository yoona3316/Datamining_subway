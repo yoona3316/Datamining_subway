{
 "cells": [
  {
   "cell_type": "code",
   "execution_count": 1,
   "metadata": {},
   "outputs": [],
   "source": [
    "import matplotlib.pyplot as plt\n",
    "import pandas as pd\n",
    "from sklearn.cluster import KMeans\n",
    "%matplotlib inline \n",
    "# plt.rcParams['figure.figsize'] = [20.0, 10.0] # Plot size 조정"
   ]
  },
  {
   "cell_type": "code",
   "execution_count": null,
   "metadata": {},
   "outputs": [],
   "source": [
    "df = pd.read_csv('./subway.csv', engine = 'python')\n",
    "df_data = df[['남성20', '여성20', '남성30', '여성30', '남성4050', '여성4050', '남성6070', '여성6070', '남성2030', '여성2030']]\n",
    "\n",
    "k_group = [3, 4, 5, 6, 7, 8, 9, 10] # Choose k range\n",
    "for k in k_group:\n",
    "    km = KMeans(n_clusters = k, random_state = 0) # Initial value => random_state attr.\n",
    "    km.fit(df_data) # Commit clustering\n",
    "    result = km.predict(df_data)\n",
    "    \n",
    "    # TODO : normalization\n",
    "    \"\"\"\n",
    "    유동인구 중 최대치로 모두를 나누기 ... 작은 숫자가 너무 작을 수 있음\n",
    "    \"\"\"\n",
    "    \n",
    "    print(km.cluster_centers_) # Print center\n",
    "    # result[15] # Find cluster where the item belongs\n",
    "    plt.scatter(df['남성20'], df['여성20'], c = result) # 점 plot 실행\n",
    "    plt.show()"
   ]
  }
 ],
 "metadata": {
  "kernelspec": {
   "display_name": "Python 3",
   "language": "python",
   "name": "python3"
  },
  "language_info": {
   "codemirror_mode": {
    "name": "ipython",
    "version": 3
   },
   "file_extension": ".py",
   "mimetype": "text/x-python",
   "name": "python",
   "nbconvert_exporter": "python",
   "pygments_lexer": "ipython3",
   "version": "3.8.3"
  }
 },
 "nbformat": 4,
 "nbformat_minor": 4
}
