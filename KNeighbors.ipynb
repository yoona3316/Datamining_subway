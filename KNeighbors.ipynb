{
 "cells": [
  {
   "cell_type": "code",
   "execution_count": null,
   "metadata": {},
   "outputs": [],
   "source": [
    "import numpy as np\n",
    "import pandas as pd\n",
    "import matplotlib.pyplot as plt\n",
    "from tqdm import tqdm\n",
    "import sys\n",
    "from sklearn.neighbors import KNeighborsClassifier"
   ]
  },
  {
   "cell_type": "code",
   "execution_count": null,
   "metadata": {},
   "outputs": [],
   "source": [
    "floating = pd.read_csv('data/skt_floating_pop.csv')\n",
    "\n",
    "floating = floating.drop('datetime', axis=1).groupby(['gu', 'hour', 'age', 'sex']).sum().reset_index()\n",
    "pop_by_gu = floating.drop('age', axis=1).groupby(['gu', 'hour']).sum('floating_pop').reset_index()\n",
    "\n",
    "def get_percentage(gu, hour, floating_pop):\n",
    "    total = pop_by_gu[(pop_by_gu.gu==gu)&(pop_by_gu.hour==hour)].floating_pop.values[0]\n",
    "    return floating_pop/total\n",
    "\n",
    "floating['percentage'] = floating.apply(lambda x: get_percentage(x.gu, x.hour, x.floating_pop), axis=1)\n",
    "floating"
   ]
  },
  {
   "cell_type": "code",
   "execution_count": null,
   "metadata": {},
   "outputs": [],
   "source": [
    "import re\n",
    "\n",
    "boarding = pd.read_csv('data/seoul_boarding_pop_by_subway.csv')\n",
    "def repl(name):\n",
    "    if \"승차\" in name:\n",
    "        return str(int(name.split(\"-\")[0].replace(\"시\", \"\")))+\"_승차\"\n",
    "    else:\n",
    "        return str(int(name.split(\"-\")[0].replace(\"시\", \"\")))+\"_하차\"\n",
    "    \n",
    "boarding = boarding.rename(columns={col: repl(col) for col in boarding.columns[3:-3]})\n",
    "boarding['total'] = 0\n",
    "for i in range(0, 24):\n",
    "    boarding[i] = boarding[str(i)+\"_승차\"]+boarding[str(i)+\"_하차\"]\n",
    "    boarding = boarding.drop([str(i)+\"_승차\", str(i)+\"_하차\"], axis=1)\n",
    "    boarding['total'] += boarding[i]\n",
    "boarding"
   ]
  },
  {
   "cell_type": "code",
   "execution_count": null,
   "metadata": {},
   "outputs": [],
   "source": [
    "ages = floating.age.unique()\n",
    "sexes = floating.sex.unique()\n",
    "age_sex = [(age, sex) for age in ages for sex in sexes]\n",
    "\n",
    "times = np.arange(0, 24)\n",
    "df = pd.DataFrame(columns=[\"id\", \"line\", \"station\", \"gu\", \"hour\" \"age\", \"sex\", \"estimated_pop\"])\n",
    "\n",
    "for i, row in boarding.iterrows():\n",
    "    print(len(df))\n",
    "    _id, line, station, gu = row.ID, row.line, row.station, row.gu\n",
    "    for hour in times:\n",
    "        total_pop = row[hour]\n",
    "        floating_pop = floating[(floating.gu==gu)&(floating.hour==hour)]\n",
    "        for j, _row in floating_pop.iterrows():\n",
    "            age, sex, percentage = _row.age, _row.sex, _row.percentage\n",
    "            data = total_pop * percentage\n",
    "            df = df.append([_id, line, station, gu, hour, age, sex, data])\n",
    "df.to_csv('data/estimated_pop.csv')"
   ]
  },
  {
   "cell_type": "code",
   "execution_count": null,
   "metadata": {},
   "outputs": [],
   "source": []
  }
 ],
 "metadata": {
  "kernelspec": {
   "display_name": "Dopameter",
   "language": "python",
   "name": "dopameter"
  },
  "language_info": {
   "codemirror_mode": {
    "name": "ipython",
    "version": 3
   },
   "file_extension": ".py",
   "mimetype": "text/x-python",
   "name": "python",
   "nbconvert_exporter": "python",
   "pygments_lexer": "ipython3",
   "version": "3.8.3rc1"
  }
 },
 "nbformat": 4,
 "nbformat_minor": 4
}
