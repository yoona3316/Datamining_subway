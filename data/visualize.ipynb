{
 "cells": [
  {
   "cell_type": "code",
   "execution_count": null,
   "metadata": {},
   "outputs": [],
   "source": [
    "import numpy as np\n",
    "import pandas as pd\n",
    "import matplotlib.pyplot as plt\n",
    "from tqdm import tqdm\n",
    "import sys\n",
    "import csv"
   ]
  },
  {
   "cell_type": "code",
   "execution_count": null,
   "metadata": {},
   "outputs": [],
   "source": [
    "stations = pd.read_csv('./seoul_boarding_pop_by_subway.csv').station\n",
    "lines = pd.read_csv('./seoul_boarding_pop_by_subway.csv').line"
   ]
  },
  {
   "cell_type": "code",
   "execution_count": null,
   "metadata": {
    "scrolled": true
   },
   "outputs": [],
   "source": [
    "objects = pd.read_csv('./clustering_parameters.csv', encoding='EUC-KR')\n",
    "col_names = pd.Index(['id', 'station', 'time']).append(objects.columns)\n",
    "objects['station'] = [i for i in stations for _ in range(4)]\n",
    "objects['line'] = [i for i in lines for _ in range(4)]\n",
    "objects['id'] = objects['line'] + objects['station']\n",
    "objects['time'] = ['출근', '낮', '퇴근', '밤']*len(stations)\n",
    "objects.reindex(columns = col_names)\n"
   ]
  },
  {
   "cell_type": "code",
   "execution_count": null,
   "metadata": {},
   "outputs": [],
   "source": [
    "twenties = ['20남', '30남', '20여', '30여']\n",
    "sixties = ['6-70남', '6-70여']\n",
    "t = s = 0\n",
    "for idx in objects.index:\n",
    "    total = objects.at[idx, '총인원']\n",
    "    for twenty in twenties:\n",
    "        t += objects.at[idx, twenty] * total\n",
    "    for sixty in sixties:\n",
    "        s += objects.at[idx, sixty] * total\n",
    "slope = s/t\n",
    "slope"
   ]
  },
  {
   "cell_type": "code",
   "execution_count": null,
   "metadata": {
    "scrolled": true
   },
   "outputs": [],
   "source": [
    "# 20-30대 승하차인원 vs 60-70대 승하차인원\n",
    "# 시간대 합침\n",
    "\n",
    "twenties = ['20남', '30남', '20여', '30여']\n",
    "sixties = ['6-70남', '6-70여']\n",
    "def func(x):\n",
    "    d = {}\n",
    "    d['twenties'] = (x[twenties].sum(axis=1)*x['총인원']).sum()\n",
    "    d['sixties'] = (x[sixties].sum(axis=1)*x['총인원']).sum()\n",
    "    return pd.Series(d, index=['twenties', 'sixties'])\n",
    "\n",
    "df = objects.groupby(['id']).apply(func)\n",
    "x = df['twenties']\n",
    "y = df['sixties']\n",
    "df = df.reset_index()\n",
    "\n",
    "plt.rc('font', family='AppleGothic')        \n",
    "plt.scatter(x, y)\n",
    "plt.plot(x, x*slope)\n",
    "for i, txt in enumerate(df.id):\n",
    "    plt.annotate(txt, (x[i], y[i]))\n",
    "plt.show()"
   ]
  },
  {
   "cell_type": "code",
   "execution_count": null,
   "metadata": {},
   "outputs": [],
   "source": [
    "below = {} # 20대가 더 많음\n",
    "above = {} # 30대가 더 많음\n",
    "for x, y, station in zip(df['twenties'], df['sixties'], df['id']):\n",
    "    _y = slope*x\n",
    "    if _y > y:\n",
    "        below[station] = _y - y\n",
    "    else:\n",
    "        above[station] = y - _y\n",
    "\n",
    "above = sorted(above.items(), key=(lambda x: x[1]), reverse=True)\n",
    "below = sorted(below.items(), key=(lambda x: x[1]), reverse=True)\n",
    "print([x[0] for x in above[:10]])\n",
    "print([x[0] for x in below[:10]])\n"
   ]
  },
  {
   "cell_type": "code",
   "execution_count": null,
   "metadata": {
    "scrolled": false
   },
   "outputs": [],
   "source": [
    "floating = pd.read_csv('./skt_floating_pop.csv')\n",
    "\n",
    "floating = floating.drop('datetime', axis=1).groupby(['gu', 'hour', 'age', 'sex']).sum().reset_index()\n",
    "pop_by_gu = floating.drop('age', axis=1).groupby(['gu', 'hour']).sum('floating_pop').reset_index()\n",
    "\n",
    "def get_percentage(gu, hour, floating_pop):\n",
    "    total = pop_by_gu[(pop_by_gu.gu==gu)&(pop_by_gu.hour==hour)].floating_pop.values[0]\n",
    "    return floating_pop/total\n",
    "\n",
    "floating['percentage'] = floating.apply(lambda x: get_percentage(x.gu, x.hour, x.floating_pop), axis=1)\n",
    "floating"
   ]
  },
  {
   "cell_type": "code",
   "execution_count": null,
   "metadata": {
    "scrolled": true
   },
   "outputs": [],
   "source": [
    "import re\n",
    "\n",
    "boarding = pd.read_csv('./seoul_boarding_pop_by_subway.csv')\n",
    "def repl(name):\n",
    "    if \"승차\" in name:\n",
    "        return str(int(name.split(\"-\")[0].replace(\"시\", \"\")))+\"_승차\"\n",
    "    else:\n",
    "        return str(int(name.split(\"-\")[0].replace(\"시\", \"\")))+\"_하차\"\n",
    "    \n",
    "boarding = boarding.rename(columns={col: repl(col) for col in boarding.columns[3:-3]})\n",
    "boarding['total'] = 0\n",
    "for i in range(0, 24):\n",
    "    boarding[i] = boarding[str(i)+\"_승차\"]+boarding[str(i)+\"_하차\"]\n",
    "    boarding = boarding.drop([str(i)+\"_승차\", str(i)+\"_하차\"], axis=1)\n",
    "    boarding['total'] += boarding[i]\n",
    "boarding"
   ]
  },
  {
   "cell_type": "code",
   "execution_count": null,
   "metadata": {
    "scrolled": false
   },
   "outputs": [],
   "source": [
    "_above = [x[0] for x in above[:3]]\n",
    "_below = [x[0] for x in below[:3]]\n",
    "age = floating.age.unique()\n",
    "sex = floating.sex.unique()\n",
    "\n",
    "for _id in _above+_below:\n",
    "    boarding_pop = boarding[(boarding.ID==_id)]\n",
    "    gu = boarding_pop.gu.values[0]\n",
    "    floating_pop = floating[floating.gu==gu].reset_index()\n",
    "    floating_pop['estimated'] = floating_pop.apply(lambda x: boarding_pop[x.hour]*x.percentage, axis=1)    \n",
    "    floating_pop['id'] = _id\n",
    "    data = floating_pop.groupby(['age', 'hour']).sum('estimated')\n",
    "\n",
    "#     연령 + 시간대별 승하차 비율\n",
    "    x = np.arange(0, 24)\n",
    "    boarding_total_by_hour = boarding_pop[range(0, 24)].replace([0], 0.1)\n",
    "    for a in age:\n",
    "        y = (data.loc[a, 'estimated']/boarding_total_by_hour).iloc[0]\n",
    "        plt.plot(x, y, label=a)\n",
    "    plt.legend()\n",
    "    plt.title(_id+\" 승하차 비율\")\n",
    "    plt.show()\n",
    "    \n",
    "    for a in age:\n",
    "        y = data.loc[a, 'estimated']\n",
    "        plt.plot(x, y, label=a)\n",
    "    plt.legend()\n",
    "    plt.title(_id+\" 추정 승하차 고객수\")\n",
    "    plt.show()\n",
    "\n"
   ]
  },
  {
   "cell_type": "code",
   "execution_count": null,
   "metadata": {},
   "outputs": [],
   "source": [
    "# pie chart 에서 유동인구 비율 단순 통계와 비교\n",
    "_above = [x[0] for x in above[:3]]\n",
    "_below = [x[0] for x in below[:3]]\n",
    "age = floating.age.unique()\n",
    "sex = floating.sex.unique()\n",
    "\n",
    "for _id in _above+_below:\n",
    "    gu = boarding[boarding.ID==_id].gu.iloc[0]\n",
    "    floating_pop = floating[floating.gu==gu]\n",
    "    pie_chart = floating_pop.groupby(['age']).sum('floating_pop')\n",
    "    plt.pie(pie_chart.floating_pop.values, \n",
    "            labels=pie_chart.index.values,\n",
    "           autopct='%1.2f%%',\n",
    "           )\n",
    "    plt.title(_id+\" 유동인구 비율 통계\")\n",
    "    plt.show()\n",
    "    \n",
    "    pie_chart = data.groupby(['age']).sum('estimated')\n",
    "    plt.pie(pie_chart.estimated.values, \n",
    "            labels=pie_chart.index.values,\n",
    "           autopct='%1.2f%%',\n",
    "           )\n",
    "    plt.title(_id+\" 추정 승하차객 비율 통계\")\n",
    "    plt.show()"
   ]
  },
  {
   "cell_type": "code",
   "execution_count": null,
   "metadata": {},
   "outputs": [],
   "source": [
    "# 출근 낮 퇴근 밤 시간 그래프\n",
    "_above = [x[0] for x in above[:3]]\n",
    "_below = [x[0] for x in below[:3]]\n",
    "age = floating.age.unique()\n",
    "sex = floating.sex.unique()\n",
    "times = [range(4, 10), range(10, 16), range(16, 20), list(range(20, 24))+list(range(0, 4))]\n",
    "time_texts = [\"출근\", \"낮\", \"퇴근\", \"밤\"]\n",
    "\n",
    "for _id in _above+_below:\n",
    "    boarding_pop = boarding[(boarding.ID==_id)]\n",
    "    gu = boarding_pop.gu.values[0]\n",
    "    floating_pop = floating[floating.gu==gu].reset_index()\n",
    "    floating_pop['estimated'] = floating_pop.apply(lambda x: boarding_pop[x.hour]*x.percentage, axis=1)    \n",
    "    data = []\n",
    "    \n",
    "    x = np.arange(20, 80, 10)\n",
    "    for i, time in enumerate(times):\n",
    "        y = floating_pop[floating_pop.hour.isin(time)].groupby(['age']).sum('estimated')\n",
    "        plt.plot(x, y.estimated, label=time_texts[i])\n",
    "    plt.legend()\n",
    "    plt.title(_id+\" 시간대별 승하차 수\")\n",
    "    plt.show()\n",
    "    \n",
    "    x = np.arange(20, 80, 10)\n",
    "    for i, time in enumerate(times):\n",
    "        y = floating_pop[floating_pop.hour.isin(time)].groupby(['age']).sum('estimated')\n",
    "        boarding_total = y.sum().estimated\n",
    "        plt.plot(x, y.estimated/boarding_total, label=time_texts[i])\n",
    "    plt.legend()\n",
    "    plt.title(_id+\" 시간대별 승하차 비율\")\n",
    "    plt.show()\n",
    "\n"
   ]
  }
 ],
 "metadata": {
  "kernelspec": {
   "display_name": "Dopameter",
   "language": "python",
   "name": "dopameter"
  },
  "language_info": {
   "codemirror_mode": {
    "name": "ipython",
    "version": 3
   },
   "file_extension": ".py",
   "mimetype": "text/x-python",
   "name": "python",
   "nbconvert_exporter": "python",
   "pygments_lexer": "ipython3",
   "version": "3.8.3rc1"
  }
 },
 "nbformat": 4,
 "nbformat_minor": 4
}
