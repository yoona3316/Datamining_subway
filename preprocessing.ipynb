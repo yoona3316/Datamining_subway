{
 "cells": [
  {
   "cell_type": "code",
   "execution_count": 50,
   "metadata": {},
   "outputs": [],
   "source": [
    "import numpy as np\n",
    "import pandas as pd\n",
    "import matplotlib.pyplot as plt\n",
    "from tqdm import tqdm\n",
    "import sys"
   ]
  },
  {
   "cell_type": "code",
   "execution_count": 107,
   "metadata": {},
   "outputs": [],
   "source": [
    "# 역과 구 매칭\n",
    "stn_gu = pd.read_csv('data/subway.csv', encoding='utf-8')\n",
    "\n",
    "# 역별 승하차객 in/out\n",
    "inout_pop = pd.read_csv('data/seoul_boarding_pop_by_subway.csv', encoding='utf-8')\n",
    "inout_pop = inout_pop.drop('datetime', axis=1)\n",
    "\n",
    "# 승차와 하차 비중\n",
    "inout_rate = 0.5\n",
    "\n",
    "# 구별 유동인구\n",
    "floating_pop = pd.read_csv('data/skt_floating_pop.csv', encoding='utf-8')\n",
    "floating_pop_mean = floating_pop.groupby(['hour','age','sex','si','gu'], as_index=False).mean()\n",
    "floating_pop_mean = floating_pop_mean.drop(['datetime', 'si'], axis=1)"
   ]
  },
  {
   "cell_type": "code",
   "execution_count": 108,
   "metadata": {},
   "outputs": [
    {
     "name": "stdout",
     "output_type": "stream",
     "text": [
      "[90, 191, 196, 317, 323, 351]\n"
     ]
    }
   ],
   "source": [
    "#이상치 제거\n",
    "drop_index = list()\n",
    "\n",
    "for stn in range(len(inout_pop)):\n",
    "    total_pop_test = sum(inout_pop.iloc[stn, 2:50])\n",
    "    if total_pop_test < 10000:\n",
    "        drop_index += [stn]\n",
    "print(drop_index)\n",
    "\n",
    "inout_pop = inout_pop.drop(drop_index, axis=0)"
   ]
  },
  {
   "cell_type": "code",
   "execution_count": 109,
   "metadata": {},
   "outputs": [
    {
     "name": "stderr",
     "output_type": "stream",
     "text": [
      "100%|████████████████████████████████████████████████████████████████████████████████| 370/370 [07:34<00:00,  1.23s/it]\n"
     ]
    }
   ],
   "source": [
    "for stn_id in tqdm(range(len(inout_pop))):\n",
    "    for time in ['morning', 'day', 'evening', 'night']:\n",
    "        \n",
    "        line_name, stn_name  = inout_pop.iloc[stn_id, 0:2]\n",
    "        gu_match = (stn_gu['station'] == stn_name) & (stn_gu['line'] == line_name)\n",
    "        gu = stn_gu[gu_match].gu.iloc[0] # 현재 gu는 1x1 dataframe. 따라서 그냥 값 읽기 과정\n",
    "        \n",
    "        if time == 'morning': hours = range(4, 10)\n",
    "        elif time == 'day': hours = range(10, 16)\n",
    "        elif time == 'evening': hours = range(16, 20)\n",
    "        else: hours = range(20, 28) # night\n",
    "        \n",
    "        number_est = np.zeros((2,5)) # 각 성별, 연령대 인원수 추정값\n",
    "        rate_est = np.zeros((2,5)) # 각 성별, 연령대 비율 추정값\n",
    "        total_inout_pop = 0 # 총 승하차인원\n",
    "        \n",
    "        for sex in range(2):\n",
    "            for age in range(5):\n",
    "                \n",
    "                for h in hours:\n",
    "                    \n",
    "                    # 해당 역의 h시-(h+1)시 승하차인원 계산\n",
    "                    inout_pop_h = (inout_pop.iloc[stn_id, 2*(h-3)+0]\n",
    "                                    + inout_rate * inout_pop.iloc[stn_id, 2*(h-3)+1])\n",
    "                    \n",
    "                    \n",
    "                    # 해당 구 h시-(h+1)시 유동인구에서 해당 연령대 및 성별 비율 계산\n",
    "                    cond_gu = (floating_pop_mean['gu'] == gu)\n",
    "                    \n",
    "                    if sex == 0:\n",
    "                        cond_sex = (floating_pop_mean['sex'] == '남성')\n",
    "                    else:\n",
    "                        cond_sex = (floating_pop_mean['sex'] == '여성')\n",
    "                    \n",
    "                    if age != 4:\n",
    "                        cond_age = (floating_pop_mean['age'] == 10*(age+2))\n",
    "                    else:\n",
    "                        cond_age = ((floating_pop_mean['age'] == 60) | (floating_pop_mean['age'] == 70))\n",
    "                    \n",
    "                    cond_h = (floating_pop_mean['hour'] == h % 24)\n",
    "                    \n",
    "                    numer = floating_pop_mean[cond_gu & cond_sex & cond_age & cond_h]['floating_pop'].sum()\n",
    "                    # 분자는 해당 구 h시-(h+1)시 유동인구에서 해당 연령대 및 성별 인원\n",
    "                    \n",
    "                    denom = floating_pop_mean[cond_gu & cond_h]['floating_pop'].sum()\n",
    "                    # 분모는 해당 구 h시-(h+1)시 전체 유동인구\n",
    "                    \n",
    "                    floating_pop_rate_h = numer / denom\n",
    "                    \n",
    "                    \n",
    "                    # 각 성별, 연령대 인원수 추정값은 승하차인원*유동인구 비율을 시간에 따라 더함\n",
    "                    number_est[sex][age] += inout_pop_h * floating_pop_rate_h\n",
    "                    \n",
    "                    # 총 승하차인원은 그냥 다 더함\n",
    "                    total_inout_pop += inout_pop_h * floating_pop_rate_h\n",
    "        \n",
    "        if total_inout_pop == 0:\n",
    "            rate_est = [[0.1, 0.1, 0.1, 0.1, 0.1], [0.1, 0.1, 0.1, 0.1, 0.1]]\n",
    "        else:\n",
    "            rate_est = ([[number / total_inout_pop for number in number_est[0]],\n",
    "                         [number / total_inout_pop for number in number_est[1]]]) # 각 성별, 연령대 비율 추정값\n",
    "                \n",
    "        globals()['stn%03d_%s' % (stn_id, time)] = rate_est + [total_inout_pop] # 변수명 ex. stn164_evening"
   ]
  },
  {
   "cell_type": "code",
   "execution_count": 110,
   "metadata": {},
   "outputs": [],
   "source": [
    "# 클러스터링 위해 하나의 배열로 모으기\n",
    "# row_number = 4*stn_id + time\n",
    "# column_number = 5*sex + age\n",
    "# 20남/30남/40남/50남/6-70남/20여/30여/40여/50여/6-70여\n",
    "\n",
    "objects = np.zeros((len(inout_pop)*4, 2*5+1))\n",
    "\n",
    "mod = sys.modules[__name__]\n",
    "\n",
    "\n",
    "for stn_id in range(len(inout_pop)):\n",
    "    for time in ['morning', 'day', 'evening', 'night']:\n",
    "        \n",
    "        stn_id_time = getattr(mod, 'stn%03d_%s' % (stn_id, time))\n",
    "        \n",
    "        if time == 'morning': t = 0\n",
    "        elif time == 'day': t = 1\n",
    "        elif time == 'evening': t = 2\n",
    "        else: t = 3 # night\n",
    "            \n",
    "        for sex in range(2):\n",
    "            for age in range(5):\n",
    "                objects[4*stn_id + t, 5*sex + age] = stn_id_time[sex][age]\n",
    "                \n",
    "        objects[4*stn_id + t, 10] = stn_id_time[2]\n",
    "        "
   ]
  },
  {
   "cell_type": "code",
   "execution_count": 111,
   "metadata": {},
   "outputs": [],
   "source": [
    "f = open('data/clustering_parameters.csv', 'w')\n",
    "\n",
    "f.write('20남,30남,40남,50남,6-70남,20여,30여,40여,50여,6-70여,총인원\\n')\n",
    "\n",
    "for obj in range(len(objects)):\n",
    "    for i in range(10):\n",
    "        f.write(str(objects[obj, i]) + ',')\n",
    "    f.write(str(objects[obj, 10]) + '\\n')\n",
    "\n",
    "f.close()"
   ]
  },
  {
   "cell_type": "code",
   "execution_count": 112,
   "metadata": {},
   "outputs": [],
   "source": [
    "#Normalization of rates\n",
    "\n",
    "norm_objects = np.zeros((len(objects), 11))\n",
    "\n",
    "mu_rate = np.zeros((2,5))\n",
    "sigma_rate = np.zeros((2,5))\n",
    "\n",
    "for sex in range(2):\n",
    "    for age in range(5):\n",
    "        mu_rate[sex][age] = np.mean(objects[:,5*sex+age])\n",
    "        sigma_rate[sex][age] = np.std(objects[:,5*sex+age])\n",
    "    \n",
    "for sex in range(2):\n",
    "    for age in range(5):\n",
    "        for id in range(len(objects)):\n",
    "            norm_objects[id][5*sex+age] = (objects[id][5*sex+age] - mu_rate[sex][age]) / sigma_rate[sex][age]"
   ]
  },
  {
   "cell_type": "code",
   "execution_count": 113,
   "metadata": {},
   "outputs": [
    {
     "name": "stderr",
     "output_type": "stream",
     "text": [
      "C:\\Users\\rlaals3620\\Anaconda3\\envs\\dmenv\\lib\\site-packages\\matplotlib\\backends\\backend_agg.py:238: RuntimeWarning: Glyph 8722 missing from current font.\n",
      "  font.set_text(s, 0.0, flags=flags)\n",
      "C:\\Users\\rlaals3620\\Anaconda3\\envs\\dmenv\\lib\\site-packages\\matplotlib\\backends\\backend_agg.py:201: RuntimeWarning: Glyph 8722 missing from current font.\n",
      "  font.set_text(s, 0, flags=flags)\n"
     ]
    },
    {
     "data": {
      "image/png": "[encoded data removed]",
      "text/plain": [
       "<Figure size 432x288 with 1 Axes>"
      ]
     },
     "metadata": {
      "needs_background": "light"
     },
     "output_type": "display_data"
    }
   ],
   "source": [
    "plt.hist(norm_objects[:,0], bins=np.arange(-3, 4, 0.25), alpha=0.2, color='y') # 20남\n",
    "plt.hist(norm_objects[:,5], bins=np.arange(-3, 4, 0.25), alpha=1, histtype='step', color='r') # 20여\n",
    "plt.show()"
   ]
  },
  {
   "cell_type": "code",
   "execution_count": 114,
   "metadata": {},
   "outputs": [],
   "source": [
    "#Normalization of total_inout_pop.\n",
    "\n",
    "mu_tot = np.mean(objects[:,10])\n",
    "sigma_tot = np.std(objects[:,10])\n",
    "\n",
    "for id in range(len(objects)):\n",
    "    norm_objects[id][10] = (objects[id][10] - mu_tot) / sigma_tot"
   ]
  },
  {
   "cell_type": "code",
   "execution_count": 115,
   "metadata": {},
   "outputs": [
    {
     "data": {
      "image/png": "[encoded data removed]",
      "text/plain": [
       "<Figure size 432x288 with 1 Axes>"
      ]
     },
     "metadata": {
      "needs_background": "light"
     },
     "output_type": "display_data"
    }
   ],
   "source": [
    "plt.hist(norm_objects[:,10], bins=np.arange(-2, 9, 0.25), alpha=0.2, color = 'b') # total_pop.\n",
    "plt.show()"
   ]
  },
  {
   "cell_type": "code",
   "execution_count": 117,
   "metadata": {},
   "outputs": [],
   "source": [
    "norm_objects_morning = np.zeros((len(inout_pop), 11))\n",
    "norm_objects_day = np.zeros((len(inout_pop), 11))\n",
    "norm_objects_evening = np.zeros((len(inout_pop), 11))\n",
    "norm_objects_night = np.zeros((len(inout_pop), 11))\n",
    "\n",
    "for stn in range(len(inout_pop)):\n",
    "    norm_objects_morning[stn] = norm_objects[4*stn]\n",
    "    norm_objects_day[stn] = norm_objects[4*stn+1]\n",
    "    norm_objects_evening[stn] = norm_objects[4*stn+2]\n",
    "    norm_objects_night[stn] = norm_objects[4*stn+3]"
   ]
  },
  {
   "cell_type": "code",
   "execution_count": 118,
   "metadata": {},
   "outputs": [
    {
     "name": "stderr",
     "output_type": "stream",
     "text": [
      "C:\\Users\\rlaals3620\\Anaconda3\\envs\\dmenv\\lib\\site-packages\\matplotlib\\backends\\backend_agg.py:238: RuntimeWarning: Glyph 8722 missing from current font.\n",
      "  font.set_text(s, 0.0, flags=flags)\n",
      "C:\\Users\\rlaals3620\\Anaconda3\\envs\\dmenv\\lib\\site-packages\\matplotlib\\backends\\backend_agg.py:201: RuntimeWarning: Glyph 8722 missing from current font.\n",
      "  font.set_text(s, 0, flags=flags)\n"
     ]
    },
    {
     "data": {
      "image/png": "[encoded data removed]",
      "text/plain": [
       "<Figure size 432x288 with 1 Axes>"
      ]
     },
     "metadata": {
      "needs_background": "light"
     },
     "output_type": "display_data"
    }
   ],
   "source": [
    "#시간대별 분포 차이\n",
    "plt.hist(norm_objects_morning[:,10], bins=np.arange(-2, 9, 0.25), alpha=1, histtype='step', color='c') # morning\n",
    "plt.hist(norm_objects_day[:,10], bins=np.arange(-2, 9, 0.25), alpha=0.6, histtype='step', color='r') # day\n",
    "plt.hist(norm_objects_evening[:,10], bins=np.arange(-2, 9, 0.25), alpha=1, histtype='step', color='y') # evening\n",
    "plt.hist(norm_objects_night[:,10], bins=np.arange(-2, 9, 0.25), alpha=0.2, color='b') # night\n",
    "plt.show()"
   ]
  },
  {
   "cell_type": "code",
   "execution_count": 119,
   "metadata": {},
   "outputs": [],
   "source": [
    "#Normalization of total_inout_pop. in logarithm\n",
    "import math\n",
    "\n",
    "log_total_pop = np.zeros(len(objects))\n",
    "norm_log_total_pop = np.zeros(len(objects))\n",
    "\n",
    "for id in range(len(objects)):\n",
    "    log_total_pop[id] = math.log(1 + objects[id][10])\n",
    "\n",
    "mu_log = np.mean(log_total_pop)\n",
    "sigma_log = np.std(log_total_pop)\n",
    "\n",
    "for id in range(len(objects)):\n",
    "    norm_log_total_pop[id] = (log_total_pop[id] - mu_log) / sigma_log"
   ]
  },
  {
   "cell_type": "code",
   "execution_count": 127,
   "metadata": {},
   "outputs": [
    {
     "data": {
      "image/png": "[encoded data removed]",
      "text/plain": [
       "<Figure size 432x288 with 1 Axes>"
      ]
     },
     "metadata": {
      "needs_background": "light"
     },
     "output_type": "display_data"
    }
   ],
   "source": [
    "plt.hist(norm_log_total_pop, bins=np.arange(-4, 4, 0.25), alpha=0.2, color = 'b') # total_pop.\n",
    "plt.show()"
   ]
  },
  {
   "cell_type": "code",
   "execution_count": 122,
   "metadata": {},
   "outputs": [],
   "source": [
    "norm_log_total_pop_morning = np.zeros(len(inout_pop))\n",
    "norm_log_total_pop_day = np.zeros(len(inout_pop))\n",
    "norm_log_total_pop_evening = np.zeros(len(inout_pop))\n",
    "norm_log_total_pop_night = np.zeros(len(inout_pop))\n",
    "\n",
    "for stn in range(len(inout_pop)):\n",
    "    norm_log_total_pop_morning[stn] = norm_log_total_pop[4*stn]\n",
    "    norm_log_total_pop_day[stn] = norm_log_total_pop[4*stn+1]\n",
    "    norm_log_total_pop_evening[stn] = norm_log_total_pop[4*stn+2]\n",
    "    norm_log_total_pop_night[stn] = norm_log_total_pop[4*stn+3]"
   ]
  },
  {
   "cell_type": "code",
   "execution_count": 123,
   "metadata": {},
   "outputs": [
    {
     "name": "stderr",
     "output_type": "stream",
     "text": [
      "C:\\Users\\rlaals3620\\Anaconda3\\envs\\dmenv\\lib\\site-packages\\matplotlib\\backends\\backend_agg.py:238: RuntimeWarning: Glyph 8722 missing from current font.\n",
      "  font.set_text(s, 0.0, flags=flags)\n",
      "C:\\Users\\rlaals3620\\Anaconda3\\envs\\dmenv\\lib\\site-packages\\matplotlib\\backends\\backend_agg.py:201: RuntimeWarning: Glyph 8722 missing from current font.\n",
      "  font.set_text(s, 0, flags=flags)\n"
     ]
    },
    {
     "data": {
      "image/png": "[encoded data removed]",
      "text/plain": [
       "<Figure size 432x288 with 1 Axes>"
      ]
     },
     "metadata": {
      "needs_background": "light"
     },
     "output_type": "display_data"
    }
   ],
   "source": [
    "#시간대별 분포 차이\n",
    "plt.hist(norm_log_total_pop_morning, bins=np.arange(-2, 9, 0.25), alpha=1, histtype='step', color='c') # morning\n",
    "plt.hist(norm_log_total_pop_day, bins=np.arange(-2, 9, 0.25), alpha=0.6, histtype='step', color='r') # day\n",
    "plt.hist(norm_log_total_pop_evening, bins=np.arange(-2, 9, 0.25), alpha=1, histtype='step', color='y') # evening\n",
    "plt.hist(norm_log_total_pop_night, bins=np.arange(-2, 9, 0.25), alpha=0.2, color='b') # night\n",
    "plt.show()"
   ]
  },
  {
   "cell_type": "code",
   "execution_count": 124,
   "metadata": {},
   "outputs": [],
   "source": [
    "for id in range(len(objects)):\n",
    "    norm_objects[id][10] = norm_log_total_pop[id]"
   ]
  },
  {
   "cell_type": "code",
   "execution_count": 125,
   "metadata": {},
   "outputs": [],
   "source": [
    "f = open('data/norm_clustering_parameters.csv', 'w')\n",
    "\n",
    "f.write('20남,30남,40남,50남,6-70남,20여,30여,40여,50여,6-70여,총인원\\n')\n",
    "\n",
    "for obj in range(len(norm_objects)):\n",
    "    for i in range(10):\n",
    "        f.write(str(norm_objects[obj, i]) + ',')\n",
    "    f.write(str(norm_objects[obj, 10]) + '\\n')\n",
    "\n",
    "f.close()"
   ]
  },
  {
   "cell_type": "code",
   "execution_count": 18,
   "metadata": {},
   "outputs": [
    {
     "data": {
      "text/plain": [
       "<matplotlib.collections.PathCollection at 0x257901039b0>"
      ]
     },
     "execution_count": 18,
     "metadata": {},
     "output_type": "execute_result"
    },
    {
     "data": {
      "image/png": "[encoded data removed]",
      "text/plain": [
       "<Figure size 432x288 with 1 Axes>"
      ]
     },
     "metadata": {
      "needs_background": "light"
     },
     "output_type": "display_data"
    }
   ],
   "source": [
    "# 20-30대 승하차인원 vs 60-70대 승하차인원\n",
    "# 시간대 분리\n",
    "\n",
    "x = np.zeros((len(inout_pop)*4, 1))\n",
    "y = np.zeros((len(inout_pop)*4, 1))\n",
    "\n",
    "for i in range(len(inout_pop*4)):\n",
    "    x[i] = objects[i][10] * (sum(objects[i][0:2]) + sum(objects[i][5:7]))\n",
    "    y[i] = objects[i][10] * (objects[i][4] + objects[i][9])\n",
    "\n",
    "plt.scatter(x, y)"
   ]
  },
  {
   "cell_type": "code",
   "execution_count": 19,
   "metadata": {},
   "outputs": [
    {
     "data": {
      "image/png": "[encoded data removed]",
      "text/plain": [
       "<Figure size 432x288 with 1 Axes>"
      ]
     },
     "metadata": {
      "needs_background": "light"
     },
     "output_type": "display_data"
    }
   ],
   "source": [
    "# 20-30대 승하차인원 vs 60-70대 승하차인원\n",
    "# 시간대 합침\n",
    "\n",
    "x = np.zeros((len(inout_pop)*4, 1))\n",
    "y = np.zeros((len(inout_pop)*4, 1))\n",
    "\n",
    "for i in range(len(inout_pop)):\n",
    "    for j in range(4):\n",
    "        x[i] += objects[4*i+j][10] * (sum(objects[4*i+j][0:2]) + sum(objects[4*i+j][5:7]))\n",
    "        y[i] += objects[4*i+j][10] * (objects[4*i+j][4] + objects[4*i+j][9])\n",
    "\n",
    "plt.rc('font', family='NanumGothic')        \n",
    "plt.scatter(x, y)\n",
    "for i in range(len(inout_pop)):\n",
    "    plt.annotate('%s' % inout_pop.iloc[i, 1], (x[i], y[i]))"
   ]
  },
  {
   "cell_type": "code",
   "execution_count": null,
   "metadata": {},
   "outputs": [],
   "source": []
  }
 ],
 "metadata": {
  "kernelspec": {
   "display_name": "Python 3",
   "language": "python",
   "name": "python3"
  },
  "language_info": {
   "codemirror_mode": {
    "name": "ipython",
    "version": 3
   },
   "file_extension": ".py",
   "mimetype": "text/x-python",
   "name": "python",
   "nbconvert_exporter": "python",
   "pygments_lexer": "ipython3",
   "version": "3.6.12"
  }
 },
 "nbformat": 4,
 "nbformat_minor": 4
}
