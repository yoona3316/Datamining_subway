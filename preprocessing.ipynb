{
 "cells": [
  {
   "cell_type": "code",
   "execution_count": 1,
   "metadata": {},
   "outputs": [],
   "source": [
    "import numpy as np\n",
    "import pandas as pd\n",
    "import matplotlib.pyplot as plt\n",
    "from tqdm import tqdm\n",
    "import sys"
   ]
  },
  {
   "cell_type": "code",
   "execution_count": 2,
   "metadata": {},
   "outputs": [],
   "source": [
    "# 역과 구 매칭\n",
    "stn_gu = pd.read_csv('data/subway.csv', encoding='utf-8')\n",
    "\n",
    "# 역별 승하차객 in/out\n",
    "inout_pop = pd.read_csv('data/seoul_boarding_pop_by_subway.csv', encoding='utf-8')\n",
    "inout_pop = inout_pop.drop('datetime', axis=1)\n",
    "\n",
    "# 승차와 하차 비중\n",
    "inout_rate = 0.5\n",
    "\n",
    "# 구별 유동인구\n",
    "floating_pop = pd.read_csv('data/skt_floating_pop.csv', encoding='utf-8')\n",
    "floating_pop_mean = floating_pop.groupby(['hour','age','sex','si','gu'], as_index=False).mean()\n",
    "floating_pop_mean = floating_pop_mean.drop(['datetime', 'si'], axis=1)"
   ]
  },
  {
   "cell_type": "code",
   "execution_count": 3,
   "metadata": {},
   "outputs": [
    {
     "name": "stderr",
     "output_type": "stream",
     "text": [
      "100%|████████████████████████████████████████████████████████████████████████████████| 376/376 [06:51<00:00,  1.09s/it]\n"
     ]
    }
   ],
   "source": [
    "for stn_id in tqdm(range(len(inout_pop))):\n",
    "    for time in ['morning', 'day', 'evening', 'night']:\n",
    "        \n",
    "        stn_name = inout_pop.iloc[stn_id, 1]\n",
    "        gu_match = (stn_gu['station'] == stn_name)\n",
    "        gu = stn_gu[gu_match].gu.iloc[0] # 동일역이 여러개 나올 수 있어 맨 윗값 취함\n",
    "        \n",
    "        if time == 'morning': hours = range(4, 10)\n",
    "        elif time == 'day': hours = range(10, 16)\n",
    "        elif time == 'evening': hours = range(16, 20)\n",
    "        else: hours = range(20, 28) # night\n",
    "        \n",
    "        ad_effect = np.zeros((2,5)) # 광고효과지수\n",
    "        \n",
    "        for sex in range(2):\n",
    "            for age in range(5):\n",
    "                \n",
    "                for h in hours:\n",
    "                    \n",
    "                    # 해당 역의 h시-(h+1)시 승하차인원 계산\n",
    "                    inout_pop_h = (inout_pop.iloc[stn_id, 2*(h-3)+0]\n",
    "                                    + inout_rate * inout_pop.iloc[stn_id, 2*(h-3)+1])\n",
    "                    \n",
    "                    \n",
    "                    # 해당 구 h시-(h+1)시 유동인구에서 해당 연령대 및 성별 비율 계산\n",
    "                    cond_gu = (floating_pop_mean['gu'] == gu)\n",
    "                    \n",
    "                    if sex == 0:\n",
    "                        cond_sex = (floating_pop_mean['sex'] == '남성')\n",
    "                    else:\n",
    "                        cond_sex = (floating_pop_mean['sex'] == '여성')\n",
    "                    \n",
    "                    if age != 4:\n",
    "                        cond_age = (floating_pop_mean['age'] == 10*(age+2))\n",
    "                    else:\n",
    "                        cond_age = ((floating_pop_mean['age'] == 60) | (floating_pop_mean['age'] == 70))\n",
    "                    \n",
    "                    cond_h = (floating_pop_mean['hour'] == h % 24)\n",
    "                    \n",
    "                    numer = floating_pop_mean[cond_gu & cond_sex & cond_age & cond_h]['floating_pop'].sum()\n",
    "                    # 분자는 해당 구 h시-(h+1)시 유동인구에서 해당 연령대 및 성별 인원\n",
    "                    \n",
    "                    denom = floating_pop_mean[cond_gu & cond_h]['floating_pop'].sum()\n",
    "                    # 분모는 해당 구 h시-(h+1)시 전체 유동인구\n",
    "                    \n",
    "                    floating_pop_rate_h = numer / denom\n",
    "                    \n",
    "                    \n",
    "                    # 광고효과지수는 승하차인원*유동인구 비율을 시간에 따라 더함\n",
    "                    ad_effect[sex][age] += inout_pop_h * floating_pop_rate_h\n",
    "                \n",
    "                \n",
    "                \n",
    "        globals()['stn%03d_%s' % (stn_id, time)] = ad_effect # 변수명 ex. stn164_evening"
   ]
  },
  {
   "cell_type": "code",
   "execution_count": 4,
   "metadata": {},
   "outputs": [],
   "source": [
    "# 클러스터링 위해 하나의 배열로 모으기\n",
    "# row_number = 4*stn_id + time\n",
    "# column_number = 5*sex + age\n",
    "# 20남/30남/40남/50남/6-70남/20여/30여/40여/50여/6-70여\n",
    "\n",
    "objects = np.zeros((len(inout_pop)*4, 2*5))\n",
    "\n",
    "mod = sys.modules[__name__]\n",
    "\n",
    "\n",
    "for stn_id in range(len(inout_pop)):\n",
    "    for time in ['morning', 'day', 'evening', 'night']:\n",
    "        \n",
    "        stn_id_time = getattr(mod, 'stn%03d_%s' % (stn_id, time))\n",
    "        \n",
    "        if time == 'morning': t = 0\n",
    "        elif time == 'day': t = 1\n",
    "        elif time == 'evening': t = 2\n",
    "        else: t = 3 # night\n",
    "            \n",
    "        for sex in range(2):\n",
    "            for age in range(5):\n",
    "                \n",
    "                objects[4*stn_id + t, 5*sex + age] = stn_id_time[sex, age]"
   ]
  }
 ],
 "metadata": {
  "kernelspec": {
   "display_name": "Python 3",
   "language": "python",
   "name": "python3"
  },
  "language_info": {
   "codemirror_mode": {
    "name": "ipython",
    "version": 3
   },
   "file_extension": ".py",
   "mimetype": "text/x-python",
   "name": "python",
   "nbconvert_exporter": "python",
   "pygments_lexer": "ipython3",
   "version": "3.6.12"
  }
 },
 "nbformat": 4,
 "nbformat_minor": 4
}
